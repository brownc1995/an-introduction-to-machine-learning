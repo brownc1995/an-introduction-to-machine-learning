{
 "cells": [
  {
   "cell_type": "markdown",
   "metadata": {},
   "source": [
    "# TensorBoard\n",
    "\n",
    "Here we look at using [TensorBoard](https://www.tensorflow.org/tensorboard), which provides the visualization and tooling needed for machine learning experimentation:\n",
    "- Tracking and visualizing metrics such as loss and accuracy;\n",
    "- Visualizing the model graph (ops and layers);\n",
    "- Viewing histograms of weights, biases, or other tensors as they change over time;\n",
    "- Projecting embeddings to a lower dimensional space;\n",
    "- Displaying images, text, and audio data;\n",
    "- Profiling TensorFlow programs."
   ]
  },
  {
   "cell_type": "code",
   "execution_count": 8,
   "metadata": {
    "ExecuteTime": {
     "end_time": "2019-08-24T14:56:27.741929Z",
     "start_time": "2019-08-24T14:56:27.728647Z"
    }
   },
   "outputs": [
    {
     "name": "stdout",
     "output_type": "stream",
     "text": [
      "The tensorboard extension is already loaded. To reload it, use:\n",
      "  %reload_ext tensorboard\n"
     ]
    }
   ],
   "source": [
    "# Load the TensorBoard notebook extension\n",
    "%load_ext tensorboard\n",
    "\n",
    "import tensorflow as tf\n",
    "from datetime import datetime\n",
    "import os\n",
    "import numpy as np"
   ]
  },
  {
   "cell_type": "markdown",
   "metadata": {},
   "source": [
    "Let's take an example dataset and scale it so that our values are between 0 and 1."
   ]
  },
  {
   "cell_type": "code",
   "execution_count": 9,
   "metadata": {
    "ExecuteTime": {
     "end_time": "2019-08-24T14:56:30.194814Z",
     "start_time": "2019-08-24T14:56:29.559018Z"
    }
   },
   "outputs": [],
   "source": [
    "fashion_mnist = tf.keras.datasets.fashion_mnist\n",
    "(x_train, y_train),(x_test, y_test) = fashion_mnist.load_data()\n",
    "x_train, x_test = x_train / 255.0, x_test / 255.0"
   ]
  },
  {
   "cell_type": "code",
   "execution_count": 10,
   "metadata": {
    "ExecuteTime": {
     "end_time": "2019-08-24T14:56:30.637822Z",
     "start_time": "2019-08-24T14:56:30.628903Z"
    }
   },
   "outputs": [],
   "source": [
    "def create_model() -> tf.keras.Sequential:\n",
    "    \"\"\"\n",
    "    Create neural network.\n",
    "    :return: tf.keras.Sequential, neural network to classify images from fashion_mnist.\n",
    "    \"\"\"\n",
    "    return tf.keras.models.Sequential([\n",
    "        tf.keras.layers.Flatten(input_shape=(28, 28)),\n",
    "        tf.keras.layers.Dense(512, activation='relu'),\n",
    "        tf.keras.layers.Dropout(0.2),\n",
    "        tf.keras.layers.Dense(10, activation='softmax')\n",
    "    ])\n",
    "\n",
    "\n",
    "def train_model(\n",
    "        x_train: np.ndarray,\n",
    "        y_train: np.ndarray,\n",
    "        x_test: np.ndarray,\n",
    "        y_test: np.ndarray\n",
    ") -> None:\n",
    "    \"\"\"\n",
    "    Train our model and display TensorBoard\n",
    "    :param x_train: np.ndarray, training input \n",
    "    :param y_train: np.ndarray, training output\n",
    "    :param x_test: np.ndarray, testing input\n",
    "    :param y_test: np.ndarray, testing output\n",
    "    :return: None\n",
    "    \"\"\"\n",
    "    model = create_model()\n",
    "    model.compile(optimizer='adam',\n",
    "                  loss='sparse_categorical_crossentropy',\n",
    "                  metrics=['accuracy']\n",
    "                  )\n",
    "\n",
    "    logdir = os.path.join('logs',\n",
    "                          datetime.now().strftime('%Y%m%d-%H%M%S')\n",
    "                          )\n",
    "\n",
    "    tensorboard_callback = tf.keras.callbacks.TensorBoard(logdir,\n",
    "                                                          histogram_freq=1\n",
    "                                                          )\n",
    "\n",
    "    model.fit(x=x_train,\n",
    "              y=y_train,\n",
    "              epochs=5,\n",
    "              validation_data=(x_test, y_test),\n",
    "              callbacks=[tensorboard_callback]\n",
    "              )\n",
    "\n",
    "    return None"
   ]
  },
  {
   "cell_type": "markdown",
   "metadata": {},
   "source": [
    "We can now run our model:"
   ]
  },
  {
   "cell_type": "code",
   "execution_count": 12,
   "metadata": {
    "ExecuteTime": {
     "end_time": "2019-08-24T14:57:28.328156Z",
     "start_time": "2019-08-24T14:56:50.529862Z"
    }
   },
   "outputs": [
    {
     "name": "stdout",
     "output_type": "stream",
     "text": [
      "Train on 60000 samples, validate on 10000 samples\n",
      "Epoch 1/5\n",
      "60000/60000 [==============================] - 8s 134us/sample - loss: 0.4967 - accuracy: 0.8219 - val_loss: 0.4283 - val_accuracy: 0.8433\n",
      "Epoch 2/5\n",
      "60000/60000 [==============================] - 7s 125us/sample - loss: 0.3826 - accuracy: 0.8604 - val_loss: 0.3889 - val_accuracy: 0.8609\n",
      "Epoch 3/5\n",
      "60000/60000 [==============================] - 7s 112us/sample - loss: 0.3502 - accuracy: 0.8719 - val_loss: 0.3645 - val_accuracy: 0.8688\n",
      "Epoch 4/5\n",
      "60000/60000 [==============================] - 7s 122us/sample - loss: 0.3266 - accuracy: 0.8796 - val_loss: 0.3464 - val_accuracy: 0.8727\n",
      "Epoch 5/5\n",
      "60000/60000 [==============================] - 8s 129us/sample - loss: 0.3121 - accuracy: 0.8840 - val_loss: 0.3459 - val_accuracy: 0.8777\n"
     ]
    }
   ],
   "source": [
    "train_model(x_train, y_train, x_test, y_test)"
   ]
  },
  {
   "cell_type": "markdown",
   "metadata": {},
   "source": [
    "Now let's see our TensorBoard!"
   ]
  },
  {
   "cell_type": "code",
   "execution_count": 13,
   "metadata": {
    "ExecuteTime": {
     "end_time": "2019-08-24T14:57:49.642110Z",
     "start_time": "2019-08-24T14:57:47.599189Z"
    }
   },
   "outputs": [
    {
     "data": {
      "text/html": [
       "\n",
       "        <iframe\n",
       "            width=\"100%\"\n",
       "            height=\"800\"\n",
       "            src=\"http://localhost:6007\"\n",
       "            frameborder=\"0\"\n",
       "            allowfullscreen\n",
       "        ></iframe>\n",
       "        "
      ],
      "text/plain": [
       "<IPython.lib.display.IFrame at 0x14a71a978>"
      ]
     },
     "metadata": {},
     "output_type": "display_data"
    }
   ],
   "source": [
    "%tensorboard --logdir logs"
   ]
  }
 ],
 "metadata": {
  "kernelspec": {
   "display_name": "Python 3",
   "language": "python",
   "name": "python3"
  },
  "language_info": {
   "codemirror_mode": {
    "name": "ipython",
    "version": 3
   },
   "file_extension": ".py",
   "mimetype": "text/x-python",
   "name": "python",
   "nbconvert_exporter": "python",
   "pygments_lexer": "ipython3",
   "version": "3.7.3"
  },
  "varInspector": {
   "cols": {
    "lenName": 16,
    "lenType": 16,
    "lenVar": 40
   },
   "kernels_config": {
    "python": {
     "delete_cmd_postfix": "",
     "delete_cmd_prefix": "del ",
     "library": "var_list.py",
     "varRefreshCmd": "print(var_dic_list())"
    },
    "r": {
     "delete_cmd_postfix": ") ",
     "delete_cmd_prefix": "rm(",
     "library": "var_list.r",
     "varRefreshCmd": "cat(var_dic_list()) "
    }
   },
   "types_to_exclude": [
    "module",
    "function",
    "builtin_function_or_method",
    "instance",
    "_Feature"
   ],
   "window_display": false
  }
 },
 "nbformat": 4,
 "nbformat_minor": 2
}
